{
 "cells": [
  {
   "cell_type": "code",
   "execution_count": 2,
   "metadata": {
    "id": "AYaE7_JJ0FPF"
   },
   "outputs": [],
   "source": [
    "import numpy as np\n",
    "import pandas as pd\n",
    "import seaborn as sns\n",
    "import matplotlib.pyplot as plt"
   ]
  },
  {
   "cell_type": "markdown",
   "metadata": {
    "id": "0RCmksOJI3xV"
   },
   "source": [
    "# 1. Разминка (4 балла)"
   ]
  },
  {
   "cell_type": "markdown",
   "metadata": {
    "id": "Qcg7rwRgLEhK"
   },
   "source": [
    "## 1.1 Создание матриц (0.25 балла)\n",
    "\n",
    "Создайте 4 матрицы\n",
    "- A - \"шахматную\" из нулей и единиц, размера 6 на 3, левое верхнее значение (A[0][0]) равно 1,\n",
    "- В - из чисел от 1 до 24, записанных в виде змейки, размера 6 на 4,\n",
    "- C - из случайных целых чисел от 2 до 10 (обе границы включительно), размера 4 на 3\n",
    "- D - из нулей с единичками на главной диагонали, размера 4 на 4.\n",
    "\n",
    "**Создайте из этих матриц \"лоскутную\" матрицу S**\n",
    "\n",
    "A В\n",
    "\n",
    "С D\n",
    "\n",
    "используя **только стандартные** операции numpy. Comprehensions использовать нельзя.\n",
    "\n",
    "После этого допишите к полученной матрице S матрицу F размера 10 на 2 из нулей, чтобы получилась матрица G:\n",
    "\n",
    "S F\n",
    "\n",
    "P.S. Когда мы говорим, что матрица имеет размер x на y, x - количество строк, y - количество столбцов."
   ]
  },
  {
   "cell_type": "code",
   "execution_count": null,
   "metadata": {
    "id": "agysa3FoLG6G"
   },
   "outputs": [
    {
     "data": {
      "text/plain": [
       "(array([[1, 0, 1],\n",
       "        [0, 0, 0],\n",
       "        [1, 0, 1],\n",
       "        [0, 0, 0],\n",
       "        [1, 0, 1],\n",
       "        [0, 0, 0]]),\n",
       " array([[ 1,  2,  3,  4],\n",
       "        [ 8,  7,  6,  5],\n",
       "        [ 9, 10, 11, 12],\n",
       "        [16, 15, 14, 13],\n",
       "        [17, 18, 19, 20],\n",
       "        [24, 23, 22, 21]]),\n",
       " array([[ 8,  3, 10],\n",
       "        [ 4,  7,  4],\n",
       "        [ 2,  7,  7],\n",
       "        [ 4,  3,  9]]),\n",
       " array([[1, 0, 0, 0],\n",
       "        [0, 1, 0, 0],\n",
       "        [0, 0, 1, 0],\n",
       "        [0, 0, 0, 1]]),\n",
       " array([[ 1,  0,  1,  1,  2,  3,  4],\n",
       "        [ 0,  0,  0,  8,  7,  6,  5],\n",
       "        [ 1,  0,  1,  9, 10, 11, 12],\n",
       "        [ 0,  0,  0, 16, 15, 14, 13],\n",
       "        [ 1,  0,  1, 17, 18, 19, 20],\n",
       "        [ 0,  0,  0, 24, 23, 22, 21],\n",
       "        [ 8,  3, 10,  1,  0,  0,  0],\n",
       "        [ 4,  7,  4,  0,  1,  0,  0],\n",
       "        [ 2,  7,  7,  0,  0,  1,  0],\n",
       "        [ 4,  3,  9,  0,  0,  0,  1]]),\n",
       " array([[ 1,  0,  1,  1,  2,  3,  4,  0,  0],\n",
       "        [ 0,  0,  0,  8,  7,  6,  5,  0,  0],\n",
       "        [ 1,  0,  1,  9, 10, 11, 12,  0,  0],\n",
       "        [ 0,  0,  0, 16, 15, 14, 13,  0,  0],\n",
       "        [ 1,  0,  1, 17, 18, 19, 20,  0,  0],\n",
       "        [ 0,  0,  0, 24, 23, 22, 21,  0,  0],\n",
       "        [ 8,  3, 10,  1,  0,  0,  0,  0,  0],\n",
       "        [ 4,  7,  4,  0,  1,  0,  0,  0,  0],\n",
       "        [ 2,  7,  7,  0,  0,  1,  0,  0,  0],\n",
       "        [ 4,  3,  9,  0,  0,  0,  1,  0,  0]]))"
      ]
     },
     "execution_count": 3,
     "metadata": {},
     "output_type": "execute_result"
    }
   ],
   "source": [
    "A = np.zeros((6, 3), dtype=int)\n",
    "A[::2, ::2] = 1\n",
    "A[1::2, 1::2] = 1\n",
    "\n",
    "B = np.arange(1, 25).reshape((6, 4))\n",
    "B[1::2] = B[1::2, ::-1]\n",
    "\n",
    "C = np.random.randint(2, 11, (4, 3))\n",
    "\n",
    "D = np.eye(4, dtype=int)\n",
    "\n",
    "upper = np.hstack((A, B))\n",
    "lower = np.hstack((C, D))\n",
    "S = np.vstack((upper, lower))\n",
    "\n",
    "F = np.zeros((10, 2), dtype=int)\n",
    "\n",
    "G = np.hstack((S, F))\n",
    "\n",
    "A, B, C, D, S, G"
   ]
  },
  {
   "cell_type": "markdown",
   "metadata": {
    "id": "PPNphrLJLYaO"
   },
   "source": [
    "## 1.2 Поиск ближайшего соседа (0.25 балла)\n",
    "\n",
    "Реализуйте функцию, принимающую на вход матрицу X и некоторое число a и возвращающую ближайший к числу элемент матрицы.\n",
    "Например, для X = np.arange(0,10).reshape((2, 5)) и a = 3.6 ответом будет 4. Можно пользоваться только базовыми функциями numpy, циклами пользоваться **нельзя**."
   ]
  },
  {
   "cell_type": "code",
   "execution_count": 4,
   "metadata": {
    "id": "9iyCwtKeL4Sx"
   },
   "outputs": [],
   "source": [
    "def find_nearest_neighbour(X, a):\n",
    "    res = X.flat[np.abs(X - a).argmin()]\n",
    "    return res"
   ]
  },
  {
   "cell_type": "markdown",
   "metadata": {
    "id": "KjVNDl-qM5va"
   },
   "source": [
    "## 1.3 Очень странная нейросеть (0.25 балла)\n",
    "\n",
    "Реализуйте одну очень странную нейросеть. Нейросеть должна:\n",
    "\n",
    "- Возводить матрицу A (матрицу весов) размера N x N в квадрат\n",
    "- В качестве первого преобразования умножать вектор X длины N (вектор признаков) на матрицу весов A**2 (на выходе получается новый вектор);\n",
    "- В качестве второго преобразования умножать вектор, полученный на прошлом шаге, на вектор b (вектор весов) размера N (на выходе получается скалярное число).\n",
    "\n",
    "Считаем, что все числа (элементы матриц и векторов) - числа с плавающей точкой."
   ]
  },
  {
   "cell_type": "code",
   "execution_count": 13,
   "metadata": {
    "id": "fK9N52bVOQk3"
   },
   "outputs": [
    {
     "name": "stdout",
     "output_type": "stream",
     "text": [
      "[[0.376449]]\n"
     ]
    }
   ],
   "source": [
    "# Придумайте свои данные для примера, N >= 4\n",
    "A = np.full((4, 4), 0.1234)\n",
    "b = np.full((4, 1), 0.5678)\n",
    "X = np.full((1, 4), 0.6803)\n",
    "\n",
    "def very_strange_neural_network(A, b, X):\n",
    "    sqA = np.dot(A, A)\n",
    "    first = np.dot(X, sqA)\n",
    "    second = np.dot(first, b)\n",
    "    return second\n",
    "\n",
    "\n",
    "print(very_strange_neural_network(A, b, X))"
   ]
  },
  {
   "cell_type": "markdown",
   "metadata": {
    "id": "zqJo51OHO0Op"
   },
   "source": [
    "## 1.4 Джунгли зовут! (0.25 балла)\n",
    "\n",
    "Перед вами матрица M - карта местности тяжелопроходимых джунглей, составленная Ларой Крофт. На карте каждая ячейка - целое число, обозначающее высоту над уровнем моря (если число больше нуля) в метрах или глубину моря (если число меньше нуля) в метрах в данной ячейке карты размером метр на метр. Если число 0, то это часть суши - берег.\n",
    "\n",
    "\n",
    "Вам необходимо посчитать:\n",
    "- Общую площадь клеточек моря, в которых его глубина больше 5 (в м^2)\n",
    "- Общий объём всей воды на карте (в м^3)\n",
    "- Максимальную высоту над уровнем моря, которая есть на этой карте (в м)"
   ]
  },
  {
   "cell_type": "code",
   "execution_count": 14,
   "metadata": {
    "id": "_xSlubGZSp-P"
   },
   "outputs": [],
   "source": [
    "def find_deep_sea_area(M):\n",
    "    amount = M[M < -5]\n",
    "    return amount.size\n",
    "\n",
    "def find_water_volume(M):\n",
    "    return np.abs(M[M < 0]).sum()\n",
    "\n",
    "def find_max_height(M):\n",
    "    return M[M > 0].max() if np.any(M > 0) else 0"
   ]
  },
  {
   "cell_type": "code",
   "execution_count": null,
   "metadata": {
    "id": "c6f0bMWKSuo-"
   },
   "outputs": [],
   "source": [
    "# Можно подставить свой пример\n",
    "M = np.array([\n",
    "    [-7, -3, -1, 0],\n",
    "    [-4, -3, 1, 19],\n",
    "    [-2, 0, 4, 25],\n",
    "    [-1, 3, 6, 9]\n",
    "])\n",
    "\n",
    "# простая проверка для примера выше\n",
    "assert np.isclose(find_deep_sea_area(M), 1)\n",
    "assert np.isclose(find_water_volume(M), 21)\n",
    "assert np.isclose(find_max_height(M), 25)\n",
    "\n",
    "print(\"Общая площадь моря на карте -\", find_deep_sea_area(M), \"м^2\")\n",
    "print(\"Общий объем воды на карте -\", find_water_volume(M), \"м^3\")\n",
    "print(\"Максимальный уровень над уровнем моря на карте -\", find_max_height(M), \"м\")"
   ]
  },
  {
   "cell_type": "markdown",
   "metadata": {
    "id": "_aqjtctjExok"
   },
   "source": [
    "## 1.5 Острова сокровищ (0.25 балла)\n",
    "\n",
    "\n",
    "На вход функции подаётся массив a из нулей и единиц. Необходимо посчитать, сколько в массиве есть блоков из идущих подряд единиц (островков). Можно пользоваться только базовыми функциями numpy, циклами пользоваться **нельзя**.\n",
    "\n",
    "Подсказка: посмотрите, что такое `np.diff`"
   ]
  },
  {
   "cell_type": "code",
   "execution_count": 15,
   "metadata": {
    "id": "c5UFVtX_Ff_d"
   },
   "outputs": [],
   "source": [
    "def count_all_islands(a):\n",
    "    diffs = np.diff(a)\n",
    "    island_starts = (diffs == 1).sum()\n",
    "    if a[0] == 1:\n",
    "        island_starts += 1\n",
    "    return island_starts"
   ]
  },
  {
   "cell_type": "code",
   "execution_count": 16,
   "metadata": {
    "id": "OeiTXVnFFYSm"
   },
   "outputs": [
    {
     "name": "stdout",
     "output_type": "stream",
     "text": [
      "4\n"
     ]
    }
   ],
   "source": [
    "# можно подставить свой пример\n",
    "\n",
    "a = np.array([0, 0, 1, 1, 1, 0, 0, 0, 0, 1, 1, 0, 0, 1, 0, 1, 1, 1])\n",
    "\n",
    "# простая проверка для примера выше\n",
    "assert count_all_islands(a) == 4\n",
    "print(count_all_islands(a))"
   ]
  },
  {
   "cell_type": "markdown",
   "metadata": {
    "id": "4KyG4iVKFmvv"
   },
   "source": [
    "## 1.6 Маскарад (0.25 балла)\n",
    "\n",
    "На вход идёт 2-мерная матрица X, заполненная числами с плавающей точкой, и дробное число a. Нужно заменить все ячейки в матрице, которые больше, чем а, на среднее значение среди элементов матрицы Х.\n",
    "\n",
    "**Нужно** пользоваться базовыми функциями numpy, **нельзя** пользоваться циклами."
   ]
  },
  {
   "cell_type": "code",
   "execution_count": 21,
   "metadata": {
    "id": "um-nH9VgGbeF"
   },
   "outputs": [],
   "source": [
    "def swap_mask_for_average(X, a):\n",
    "    mean = X.mean()\n",
    "    Y = np.full(X.shape, mean)\n",
    "    newX = np.where(X > a, Y, X)\n",
    "    return newX"
   ]
  },
  {
   "cell_type": "code",
   "execution_count": 25,
   "metadata": {
    "id": "3VM2Q15zGiCL"
   },
   "outputs": [
    {
     "ename": "AssertionError",
     "evalue": "",
     "output_type": "error",
     "traceback": [
      "\u001b[0;31m---------------------------------------------------------------------------\u001b[0m",
      "\u001b[0;31mAssertionError\u001b[0m                            Traceback (most recent call last)",
      "Cell \u001b[0;32mIn[25], line 11\u001b[0m\n\u001b[1;32m      8\u001b[0m a \u001b[38;5;241m=\u001b[39m \u001b[38;5;241m5\u001b[39m\n\u001b[1;32m     10\u001b[0m \u001b[38;5;66;03m# простая проверка для примера выше\u001b[39;00m\n\u001b[0;32m---> 11\u001b[0m \u001b[38;5;28;01massert\u001b[39;00m np\u001b[38;5;241m.\u001b[39mallclose(swap_mask_for_average(M, a),\n\u001b[1;32m     12\u001b[0m                    np\u001b[38;5;241m.\u001b[39marray([\n\u001b[1;32m     13\u001b[0m                        [\u001b[38;5;241m-\u001b[39m\u001b[38;5;241m7\u001b[39m, \u001b[38;5;241m-\u001b[39m\u001b[38;5;241m3\u001b[39m, \u001b[38;5;241m-\u001b[39m\u001b[38;5;241m1\u001b[39m, \u001b[38;5;241m0\u001b[39m],\n\u001b[1;32m     14\u001b[0m                        [\u001b[38;5;241m-\u001b[39m\u001b[38;5;241m4\u001b[39m, \u001b[38;5;241m-\u001b[39m\u001b[38;5;241m3\u001b[39m, \u001b[38;5;241m1\u001b[39m, \u001b[38;5;241m2\u001b[39m],\n\u001b[1;32m     15\u001b[0m                        [\u001b[38;5;241m-\u001b[39m\u001b[38;5;241m2\u001b[39m, \u001b[38;5;241m0\u001b[39m, \u001b[38;5;241m4\u001b[39m, \u001b[38;5;241m2\u001b[39m],\n\u001b[1;32m     16\u001b[0m                        [\u001b[38;5;241m-\u001b[39m\u001b[38;5;241m1\u001b[39m, \u001b[38;5;241m3\u001b[39m, \u001b[38;5;241m2\u001b[39m, \u001b[38;5;241m2\u001b[39m]\n\u001b[1;32m     17\u001b[0m                    ]))\n\u001b[1;32m     19\u001b[0m swap_mask_for_average(M, a)\n",
      "\u001b[0;31mAssertionError\u001b[0m: "
     ]
    }
   ],
   "source": [
    "# Можно подставить свой пример\n",
    "M = np.array([\n",
    "    [-7, -3, -1, 0],\n",
    "    [-4, -3, 1, 19],\n",
    "    [-2, 0, 4, 25],\n",
    "    [-1, 3, 6, 9]\n",
    "])\n",
    "a = 5\n",
    "\n",
    "# простая проверка для примера выше\n",
    "assert np.allclose(swap_mask_for_average(M, a),\n",
    "                   np.array([\n",
    "                       [-7, -3, -1, 0],\n",
    "                       [-4, -3, 1, 2],\n",
    "                       [-2, 0, 4, 2],\n",
    "                       [-1, 3, 2, 2]\n",
    "                   ]))\n",
    "\n",
    "swap_mask_for_average(M, a)"
   ]
  },
  {
   "cell_type": "markdown",
   "metadata": {
    "id": "W8IS-G9mHygT"
   },
   "source": [
    "## 1.7 По горячим трейсам (0.25 балла)\n",
    "\n",
    "На вход приходит квадратная матрица М, надо посчитать разницу между суммой по главной и побочной диагоналями матрицы.\n",
    "\n",
    "\n",
    "Можно пользоваться только базовыми функциями numpy, циклами пользоваться **нельзя**.\n",
    "\n",
    "Подсказка: посмотрите, что такое `np.trace`"
   ]
  },
  {
   "cell_type": "code",
   "execution_count": 27,
   "metadata": {
    "id": "iD0baTAxIil6"
   },
   "outputs": [],
   "source": [
    "def count_trace_diff(M):\n",
    "    main_diagonal_sum = np.trace(M)\n",
    "    anti_diagonal_sum = np.trace(np.fliplr(M))\n",
    "    return main_diagonal_sum - anti_diagonal_sum"
   ]
  },
  {
   "cell_type": "code",
   "execution_count": 28,
   "metadata": {
    "id": "9cewBWIyIy7G"
   },
   "outputs": [
    {
     "data": {
      "text/plain": [
       "np.int64(3)"
      ]
     },
     "execution_count": 28,
     "metadata": {},
     "output_type": "execute_result"
    }
   ],
   "source": [
    "# Можно подставить свой пример\n",
    "M = np.array([\n",
    "    [-7, -3, -1, 0],\n",
    "    [-4, -3, 1, 19],\n",
    "    [-2, 0, 4, 25],\n",
    "    [-1, 3, 6, 9]\n",
    "])\n",
    "\n",
    "# простая проверка для примера выше\n",
    "assert np.allclose(count_trace_diff(M), 3)\n",
    "\n",
    "count_trace_diff(M)"
   ]
  },
  {
   "cell_type": "markdown",
   "metadata": {
    "id": "SPXmaaXCGu9X"
   },
   "source": [
    "## 1.8 Царь горы (0.25 балла)\n",
    "\n",
    "На вход приходит вектор a размера N. Необходимо при помощи сложения, конкатенации, бродкастинга получить симметричную матрицу размера 2N x 2N, у которой в середине максимальное значение, а к краям оно убывает.\n",
    "\n",
    "Пример: a = (0, 1, 2)\n",
    "\n",
    "Результат:\n",
    "\n",
    "0 1 2 2 1 0 \\\\\n",
    "1 2 3 3 2 1 \\\\\n",
    "2 3 4 4 3 2 \\\\\n",
    "2 3 4 4 3 2 \\\\\n",
    "1 2 3 3 2 1 \\\\\n",
    "0 1 2 2 1 0 \\\\"
   ]
  },
  {
   "cell_type": "code",
   "execution_count": 29,
   "metadata": {
    "id": "AIZjzQ7qHasl"
   },
   "outputs": [],
   "source": [
    "def create_mountain(a):\n",
    "    N = len(a)\n",
    "    upper_left = a.reshape(1, N) + np.arange(0, N).reshape(N, 1)\n",
    "    upper_right = np.fliplr(upper_left)\n",
    "    upper = np.hstack((upper_left, upper_right))\n",
    "    lower = np.flipud(upper)\n",
    "    symmetric_matrix = np.vstack((upper, lower))\n",
    "    return symmetric_matrix"
   ]
  },
  {
   "cell_type": "code",
   "execution_count": 30,
   "metadata": {
    "id": "mPc6GlqTHi4y"
   },
   "outputs": [
    {
     "data": {
      "text/plain": [
       "array([[0, 1, 2, 3, 4, 4, 3, 2, 1, 0],\n",
       "       [1, 2, 3, 4, 5, 5, 4, 3, 2, 1],\n",
       "       [2, 3, 4, 5, 6, 6, 5, 4, 3, 2],\n",
       "       [3, 4, 5, 6, 7, 7, 6, 5, 4, 3],\n",
       "       [4, 5, 6, 7, 8, 8, 7, 6, 5, 4],\n",
       "       [4, 5, 6, 7, 8, 8, 7, 6, 5, 4],\n",
       "       [3, 4, 5, 6, 7, 7, 6, 5, 4, 3],\n",
       "       [2, 3, 4, 5, 6, 6, 5, 4, 3, 2],\n",
       "       [1, 2, 3, 4, 5, 5, 4, 3, 2, 1],\n",
       "       [0, 1, 2, 3, 4, 4, 3, 2, 1, 0]])"
      ]
     },
     "execution_count": 30,
     "metadata": {},
     "output_type": "execute_result"
    }
   ],
   "source": [
    "# Можно подставить свой пример\n",
    "a = np.array([0, 1, 2, 3, 4])\n",
    "\n",
    "create_mountain(a)"
   ]
  },
  {
   "cell_type": "markdown",
   "metadata": {
    "id": "_0DqE59yI4wo"
   },
   "source": [
    "## 1.9 Монохромная фотография 9 на 12 (0.5 балла)\n",
    "\n",
    "На вход приходит двухмерная матрица P размера N на M, заполненная числами от 0 до 255, соответствующая некой черно-белой фотографии и натуральное число C. Необходимо из неё получить матрицу размера (N-C + 1) x (M-C+1), где каждая ячейка - среднее значение соответствующей подматрицы размера C x C. Таким образом, по сути, мы сделаем примитивное размытие изображения (и немного потеряем в его размере)"
   ]
  },
  {
   "cell_type": "code",
   "execution_count": 31,
   "metadata": {
    "id": "_x1l9qofKBuT"
   },
   "outputs": [],
   "source": [
    "def custom_blur(P, C):\n",
    "    N, M = P.shape\n",
    "    blurred = np.zeros((N - C + 1, M - C + 1))\n",
    "    for i in range(N - C + 1):\n",
    "        for j in range(M - C + 1):\n",
    "            blurred[i, j] = P[i:i+C, j:j+C].mean()\n",
    "    \n",
    "    return blurred"
   ]
  },
  {
   "cell_type": "code",
   "execution_count": 32,
   "metadata": {
    "id": "1UHsPZG6KNjB"
   },
   "outputs": [
    {
     "data": {
      "text/plain": [
       "array([[2.5, 3.5, 4.5],\n",
       "       [6.5, 7.5, 8.5]])"
      ]
     },
     "execution_count": 32,
     "metadata": {},
     "output_type": "execute_result"
    }
   ],
   "source": [
    "# можно подставить свой пример\n",
    "P = np.arange(0, 12).reshape((3, 4))\n",
    "kernel = 2\n",
    "\n",
    "# простая проверка для примера выше\n",
    "assert np.allclose(custom_blur(P, kernel),\n",
    "                   np.array([[2.5, 3.5, 4.5], [6.5, 7.5, 8.5]]))\n",
    "custom_blur(P, 2 )"
   ]
  },
  {
   "cell_type": "markdown",
   "metadata": {
    "id": "dfOlyj2NKUQM"
   },
   "source": [
    "## 1.10 Функция проверки (0.75 балла)\n",
    "\n",
    "На вход функции поступает произвольное (>2) кортежей размеров (shape) различных матриц. Необходимо вернуть True если можно последовательно сложить эти матрицы (возможно, с помощью broadcasting), и False если нет."
   ]
  },
  {
   "cell_type": "code",
   "execution_count": 33,
   "metadata": {
    "id": "pvsySOXiLSll"
   },
   "outputs": [],
   "source": [
    "def check_successful_broadcast(*matrices):\n",
    "    current_matrix = matrices[0]\n",
    "    for next_matrix in matrices[1:]:\n",
    "        try:\n",
    "            max_dims = max(len(current_matrix), len(next_matrix))\n",
    "            current_matrix = (1,) * (max_dims - len(current_matrix)) + current_matrix\n",
    "            next_matrix = (1,) * (max_dims - len(next_matrix)) + next_matrix\n",
    "            new_matrix = tuple(\n",
    "                max(c, n) if c == n or c == 1 or n == 1 else None\n",
    "                for c, n in zip(current_matrix, next_matrix)\n",
    "            )\n",
    "            if None in new_matrix:\n",
    "                return False\n",
    "            \n",
    "            current_matrix = new_matrix\n",
    "        except Exception:\n",
    "            return False\n",
    "    \n",
    "    return True"
   ]
  },
  {
   "cell_type": "code",
   "execution_count": 34,
   "metadata": {
    "id": "j2nlX8gZLgu_"
   },
   "outputs": [],
   "source": [
    "assert check_successful_broadcast((5, 6, 7), (6, 7), (1, 7))\n",
    "# можно ещё потестировать на своих примерах"
   ]
  },
  {
   "cell_type": "markdown",
   "metadata": {
    "id": "HCLr2eqgLrnW"
   },
   "source": [
    "## 1.11 Попарные расстояния (0.75 балла)\n",
    "\n",
    "На вход подаются матрицы A размера m x k и матрица B размера n x k. Нужно получить матрицу размера m x n, содержащую попарные евклидовы расстояния.\n",
    "\n",
    "Можно пользоваться только базовыми функциями, нельзя пользоваться циклами, сторонними библиотеками; скорее всего, пригодится broadcasting. Авторское решение записывается **в одну строчку** в соответствии со всеми правилами кодстайла."
   ]
  },
  {
   "cell_type": "code",
   "execution_count": null,
   "metadata": {
    "id": "BsYOG1fCMVTp"
   },
   "outputs": [],
   "source": [
    "def pairwise_distances(A, B):\n",
    "    return np.sqrt(((A[:, np.newaxis, :] - B[np.newaxis, :, :]) ** 2).sum(axis=2))"
   ]
  },
  {
   "cell_type": "code",
   "execution_count": null,
   "metadata": {
    "id": "tjXHwtl0Mgdt"
   },
   "outputs": [],
   "source": [
    "A = # TODO\n",
    "B = # TODO\n",
    "\n",
    "pairwise_distances(A, B)"
   ]
  },
  {
   "cell_type": "markdown",
   "metadata": {
    "id": "ZTgj4OtAgcyI"
   },
   "source": [
    "Объясни принцип работы этой одной строчки. Что именно происходит в ней?\n",
    "\n",
    "np.newaxis вставляет дополнительную ось в массив. Когда мы пишем A[:, np.newaxis, :], это превращает матрицу A из формы (m, k) в форму (m, 1, k). Это помогает нам подготовить A для вычитания с матрицей B, используя broadcasting. \n",
    "Аналогично с матрицей B\n",
    "Дальше мы вычитаем эти матрицы и возводим в квадрат\n",
    "sum(axis=2) - мы суммируем квадраты разностей по третьей оси (по оси k). Это сводит нашу матрицу размером m×n×k к матрице размером m×n, где каждый элемент — это сумма квадратов разностей для каждой пары строк из A и B."
   ]
  },
  {
   "cell_type": "markdown",
   "metadata": {
    "id": "54rP40WP9qzf"
   },
   "source": [
    "# 2. Обработка данных эксперимента (3 балла)"
   ]
  },
  {
   "cell_type": "markdown",
   "metadata": {
    "id": "QnfGJx2qMvBH"
   },
   "source": [
    "А сейчас, дамы и господа, мы научимся использовать библиотеки для анализа данных в реальности!\n",
    "\n",
    "**Причина появления этого раздела проста**: многие студенты ПМФ даже во втором и третьем семестрах продолжают использовать Excel, калькулятор или лист бумаги. Хочется открыть глаза на ещё один способ выполнения лабораторных с намного меньшим порогом вхождения, чем тот же Excel. Авторы надеются, что кого-то это замотивирует присмотреться к удобным библиотекам.\n",
    "\n",
    "*Спонсор данных для раздела - blacksamorez. Без него пять счастливых семестров лаб были бы совсем не счастливыми...*"
   ]
  },
  {
   "cell_type": "code",
   "execution_count": null,
   "metadata": {
    "id": "ZhGfEL9KtqZN"
   },
   "outputs": [],
   "source": [
    "import numpy as np\n",
    "import pandas as pd\n",
    "import matplotlib.pyplot as plt"
   ]
  },
  {
   "cell_type": "markdown",
   "metadata": {
    "id": "q2Qr6BIzASBB"
   },
   "source": [
    "##  2.1. Постановка задачи и данные\n",
    "\n",
    "Предположим, у нас есть гироскоп с прицепленным к его оси грузом на рычаге (см. рисунок для быстрого понимания, а подробности можно узнать в [лабораторном практикуме](https://lib.mipt.ru/book/267519/), том 1, стр.160). Из-за наличия груза гироскоп начинает медленно [прецессировать](https://ru.wikipedia.org/wiki/%D0%9F%D1%80%D0%B5%D1%86%D0%B5%D1%81%D1%81%D0%B8%D1%8F), т.е. вращаться вокруг вертикальной оси с какой-то более-менее постоянной частотой.\n",
    "\n",
    "Мы с вами разберём часть этой лабораторной, в основном касающуюся обработки данных и построения графиков."
   ]
  },
  {
   "cell_type": "markdown",
   "metadata": {
    "id": "FrPpSNRaKsfa"
   },
   "source": [
    "<center><img src='https://drive.google.com/uc?export=view&id=1KfYQ0hKYRDhi5uk7C8lNffZBNy8NF7nu' width=600>\n",
    "\n",
    "Изображение гироскопа с подвешенным грузом Г и рычагом С</center>"
   ]
  },
  {
   "cell_type": "markdown",
   "metadata": {
    "id": "XxZ2BYwEkWTI"
   },
   "source": [
    "Для начала посмотрим на данные, которые любезно кто-то для нас собрал. Создайте датафрейм из [файла](https://drive.google.com/file/d/1SbLR6R16obqLewUTnX1CAAjQTrVXh2Vq/view?usp=sharing)"
   ]
  },
  {
   "cell_type": "code",
   "execution_count": null,
   "metadata": {
    "colab": {
     "base_uri": "https://localhost:8080/",
     "height": 206
    },
    "id": "b8vBlrx1tlKv",
    "outputId": "060449f7-d670-4459-d4f0-f27a32bf0c05"
   },
   "outputs": [
    {
     "data": {
      "text/html": [
       "<div>\n",
       "<style scoped>\n",
       "    .dataframe tbody tr th:only-of-type {\n",
       "        vertical-align: middle;\n",
       "    }\n",
       "\n",
       "    .dataframe tbody tr th {\n",
       "        vertical-align: top;\n",
       "    }\n",
       "\n",
       "    .dataframe thead th {\n",
       "        text-align: right;\n",
       "    }\n",
       "</style>\n",
       "<table border=\"1\" class=\"dataframe\">\n",
       "  <thead>\n",
       "    <tr style=\"text-align: right;\">\n",
       "      <th></th>\n",
       "      <th>N</th>\n",
       "      <th>t, sec</th>\n",
       "      <th>sigma_t, sec</th>\n",
       "      <th>mass, gramm</th>\n",
       "      <th>length, cm</th>\n",
       "      <th>phi, rad</th>\n",
       "    </tr>\n",
       "  </thead>\n",
       "  <tbody>\n",
       "    <tr>\n",
       "      <th>1</th>\n",
       "      <td>4</td>\n",
       "      <td>268</td>\n",
       "      <td>1</td>\n",
       "      <td>180.0</td>\n",
       "      <td>121.0</td>\n",
       "      <td>0.16</td>\n",
       "    </tr>\n",
       "    <tr>\n",
       "      <th>2</th>\n",
       "      <td>4</td>\n",
       "      <td>264</td>\n",
       "      <td>1</td>\n",
       "      <td>180.0</td>\n",
       "      <td>121.0</td>\n",
       "      <td>0.18</td>\n",
       "    </tr>\n",
       "    <tr>\n",
       "      <th>3</th>\n",
       "      <td>4</td>\n",
       "      <td>275</td>\n",
       "      <td>1</td>\n",
       "      <td>180.0</td>\n",
       "      <td>121.0</td>\n",
       "      <td>0.16</td>\n",
       "    </tr>\n",
       "    <tr>\n",
       "      <th>4</th>\n",
       "      <td>4</td>\n",
       "      <td>263</td>\n",
       "      <td>1</td>\n",
       "      <td>180.0</td>\n",
       "      <td>121.0</td>\n",
       "      <td>0.17</td>\n",
       "    </tr>\n",
       "    <tr>\n",
       "      <th>5</th>\n",
       "      <td>4</td>\n",
       "      <td>267</td>\n",
       "      <td>1</td>\n",
       "      <td>180.0</td>\n",
       "      <td>121.0</td>\n",
       "      <td>0.17</td>\n",
       "    </tr>\n",
       "  </tbody>\n",
       "</table>\n",
       "</div>"
      ],
      "text/plain": [
       "   N  t, sec  sigma_t, sec  mass, gramm  length, cm  phi, rad\n",
       "1  4     268             1        180.0       121.0      0.16\n",
       "2  4     264             1        180.0       121.0      0.18\n",
       "3  4     275             1        180.0       121.0      0.16\n",
       "4  4     263             1        180.0       121.0      0.17\n",
       "5  4     267             1        180.0       121.0      0.17"
      ]
     },
     "execution_count": 730,
     "metadata": {},
     "output_type": "execute_result"
    }
   ],
   "source": [
    "# YOUR CODE HERE\n",
    "# data = ...\n",
    "data.head()"
   ]
  },
  {
   "cell_type": "markdown",
   "metadata": {
    "id": "rjZD-cOw7nms"
   },
   "source": [
    "## 2.2 Работа с данными"
   ]
  },
  {
   "cell_type": "markdown",
   "metadata": {
    "id": "DIUhNNUQxDQ1"
   },
   "source": [
    "Колонки в датафрейме следующие:\n",
    "\n",
    "N - количество полных оборотов гироскопа в эксперименте;\n",
    "\n",
    "t, в секундах - время эксперимента;\n",
    "\n",
    "$\\sigma_t$ - погрешность измерения времени;\n",
    "\n",
    "mass - масса груза, подвешенного к рычагу на гироскопе;\n",
    "\n",
    "length - длина плеча вышеупомянутого рычага;\n",
    "\n",
    "phi - угол в радианах, на который опустился рычаг за время эксперимента. Понадобится, чтобы оценить влияние силы трения в гироскопе на прецессию."
   ]
  },
  {
   "cell_type": "markdown",
   "metadata": {
    "id": "fnTCoIqdyDVF"
   },
   "source": [
    "Так как физики любят оперировать величинами адекватной размерности, нужно перевести колонки с массой в килограммы, а с длиной - в метры. Затем переименуйте все колонки так, чтобы в них не осталось упоминаний о размерности - только названия физических величин."
   ]
  },
  {
   "cell_type": "code",
   "execution_count": null,
   "metadata": {
    "id": "SidmSVzMyW_U"
   },
   "outputs": [],
   "source": [
    "# YOUR CODE HERE\n",
    "\n",
    "assert data.mass.mean() < 0.3\n",
    "assert np.allclose(data.length.mean(), 1.155)\n",
    "assert all(' ' not in column for column in data.columns)\n",
    "\n",
    "data.head()"
   ]
  },
  {
   "cell_type": "markdown",
   "metadata": {
    "id": "OQ-9VXH8l3wP"
   },
   "source": [
    "Добавьте в датафрейм колонки с соответствующими именами и значениями, вычисленными по формулам:\n",
    "\n",
    "`omega`: $\\Omega = 2 \\pi \\cdot \\frac{N}{t}$\n",
    "\n",
    "`sigma_omega`: $\\sigma_{\\Omega} = \\Omega / t \\cdot \\sigma_t$\n",
    "\n",
    "`omega_down`: $\\Omega_{down} = \\varphi / t$\n",
    "\n",
    "`sigma_down`: $\\Omega_{down} \\cdot \\sigma_t / t$\n",
    "\n",
    "`momentum`: $M = m \\cdot g \\cdot l$ (`g = 9.8 м/с^2`)\n",
    "\n",
    "`momentum_down`: $M_{down} = m \\cdot \\frac{\\varphi}{t^2} \\cdot l^2$\n",
    "\n",
    "`sigma_momentum`: $\\sigma_{M} = M_{down} \\cdot 2 \\cdot \\frac{\\sigma_t}{t}$\n"
   ]
  },
  {
   "cell_type": "code",
   "execution_count": null,
   "metadata": {
    "id": "32p3uQkhHxu1"
   },
   "outputs": [],
   "source": [
    "# YOUR CODE HERE\n",
    "# data['omega'] = ...\n",
    "# ...\n",
    "\n",
    "assert np.allclose(data.momentum_down.iloc[0], 5.892e-07)\n",
    "assert np.allclose(data.sigma_omega[0:5], 3.5e-04, atol=3e-5)\n",
    "assert np.allclose(data.sigma_momentum[0:5], 4.4e-09, atol=1e-9)\n",
    "\n",
    "data.head()\n"
   ]
  },
  {
   "cell_type": "markdown",
   "metadata": {
    "id": "rCFFceZCHxu1"
   },
   "source": [
    "Возможно, вы уже задались вопросом, для чего так много раз повторяются эксперименты с одной и той же массой. Чтобы получить более стабильные результаты, конечно же! Посчитайте теперь средние значения колонок `omega`, `sigma_omega`, `momentum` и`momentum_down` для каждой уникальной массы.\n",
    "\n",
    "**Подсказка:** функция groupby вам поможет. Никаких циклов!"
   ]
  },
  {
   "cell_type": "code",
   "execution_count": null,
   "metadata": {
    "id": "LfWPdeWkHxu1"
   },
   "outputs": [],
   "source": [
    "# YOUR CODE HERE\n",
    "# grouped_data = ...\n",
    "\n",
    "assert 0.273 in grouped_data.index\n",
    "assert np.allclose(grouped_data.omega[0.273], 0.1433)\n",
    "\n",
    "grouped_data"
   ]
  },
  {
   "cell_type": "markdown",
   "metadata": {
    "id": "Swj1Ipg573q0"
   },
   "source": [
    "## 2.3 Простые графики и МНК"
   ]
  },
  {
   "cell_type": "markdown",
   "metadata": {
    "id": "R8j4vhCcHxu1"
   },
   "source": [
    "Теперь время для повторного знакомства с методом наименьших квадратов. Конечно же, мы не заставим вас писать МНК самостоятельно! <s>Мы же не звери</s>\n",
    "\n",
    "\n",
    "В numpy функция [np.polyfit](https://numpy.org/devdocs/reference/generated/numpy.polyfit.html) по `x`, `y` и степени `p` вычисляет многочлен заданной степени, являющийся МНК-оценкой зависимости `y(x)`.\n",
    "\n",
    "Функция [np.polyval](https://numpy.org/devdocs/reference/generated/numpy.polyval.html), в свою очередь, вычисляет многочлен `P(x)` по заданным коэффициентам.\n",
    "\n",
    "Ваша задача - построить график зависимости $\\Omega (M)$ угловой скорости от момента инерции. На графике должны присутствовать экспериментальные точки, а также прямая, построенная по методу наименьших квадратов. В легенду вынесите полином с записанными коэффициентами. Не забудьте подписать оси (14 шрифт), задать сетку и сделать правильный заголовок (18 шрифт)!"
   ]
  },
  {
   "cell_type": "markdown",
   "metadata": {
    "id": "kV523sdeI5ze"
   },
   "source": [
    "<center><img src='https://drive.google.com/uc?export=view&id=1xumON0195iA4HGSqvpS0FAhPGxuCdKH8' width=600>\n",
    "\n",
    "Пример получившегося графика</center>"
   ]
  },
  {
   "cell_type": "code",
   "execution_count": null,
   "metadata": {
    "id": "eAoulUClHxu1"
   },
   "outputs": [],
   "source": [
    "omega_np = np.array(grouped_data.omega)\n",
    "momentum_np = np.array(grouped_data.momentum)\n",
    "\n",
    "# Воспользуйтесь np.polyfit\n",
    "# coefs = ...\n",
    "\n",
    "# Чтобы прямая построилась красиво, немножко заходя за точки\n",
    "x_lsq = np.linspace(momentum_np.min() * 0.5, momentum_np.max() * 1.1, 100)\n",
    "\n",
    "# Примените np.polyval к коэффициентам и x_lsq\n",
    "# y_lsq = ...\n",
    "\n",
    "fig = plt.figure(figsize=(12, 8))\n",
    "\n",
    "# YOUR CODE HERE\n",
    "# ...\n",
    "plt.show()"
   ]
  },
  {
   "cell_type": "markdown",
   "metadata": {
    "id": "soMU7vrHHxu2"
   },
   "source": [
    "`np.polyfit` также умеет оценивать погрешности! Если точнее, он возвращает матрицу ковариаций для метода наименьших квадратов. Не будем углубляться в математику, главное знать, что на диагонали у неё стоят дисперсии полученных коэффициентов. Для получения собственно погрешности $\\sigma$ необходимо взять корень из этих дисперсий.\n",
    "\n",
    "Также стоит упомянуть про параметр `W`, задающий веса точек для оценки. Если известны ошибки $y_{error}$, можно задать веса как $W = 1 / y_{error}$, и прямая получится ещё более точной. Чтобы учесть ещё и ошибки по $x$, нужны, к сожалению, уже другие методы (но скорее всего, вам не понадобятся даже ошибки по $y$)."
   ]
  },
  {
   "cell_type": "markdown",
   "metadata": {
    "id": "VE5lr50DHxu2"
   },
   "source": [
    "Представим, что произошла неприятность, и погрешности возросли в 10 раз!"
   ]
  },
  {
   "cell_type": "code",
   "execution_count": null,
   "metadata": {
    "id": "E-t75UCcHxu3"
   },
   "outputs": [],
   "source": [
    "grouped_data['sigma_down'] *= 10\n",
    "grouped_data['sigma_momentum'] *= 10"
   ]
  },
  {
   "cell_type": "markdown",
   "metadata": {
    "id": "s8HQkGB3Hxu3"
   },
   "source": [
    "\n",
    "\n",
    "Теперь вам нужно нарисовать график зависимости $\\Omega_{down} (M_{down})$ <b>(не $\\Omega(M)$!)</b> для точек с крестами погрешностей, а также построить не только прямую по оценке наименьших квадратов, а ещё и учесть погрешности оценок коэффициентов! Т.е. нужно построить три прямых: $k \\cdot x + b$, которую выдал МНК, $(k - \\sigma_k) \\cdot x + (b - \\sigma_b)$, $(k + \\sigma_k) \\cdot x + (b + \\sigma_b)$, и закрасить промежуток между этими прямыми (в этом вам поможет функция plt.fill_between). Остальное оформление оставьте таким же, как в предыдущем задании.\n",
    "\n",
    "_Примечание: часто в МНК не смотрят на погрешность $b$, оставляя только $\\sigma_k$._"
   ]
  },
  {
   "cell_type": "markdown",
   "metadata": {
    "id": "Js6sF_UpKCkw"
   },
   "source": [
    "<center><img src='https://drive.google.com/uc?export=view&id=1SriaMzJah7F610ocIK_O1-HqqtMQgxlg' width=600>\n",
    "\n",
    "Пример получившегося графика</center>"
   ]
  },
  {
   "cell_type": "code",
   "execution_count": null,
   "metadata": {
    "id": "dLdKIUCRHxu3"
   },
   "outputs": [],
   "source": [
    "omega_down_np = np.array(grouped_data.omega_down)\n",
    "momentum_down_np = np.array(grouped_data.momentum_down)\n",
    "\n",
    "# Снова polyfit, но с дополнительным параметром и возвращающий ковариацию!\n",
    "# coefs, cov = ...\n",
    "\n",
    "# Чтобы прямая построилась снова красиво\n",
    "x_lsq = np.linspace(momentum_down_np.min() * 0.3, momentum_down_np.max() * 1.1, 100)\n",
    "\n",
    "# Посчитайте корень диагональных элементов, должен получиться массив размером (2,)\n",
    "# lsq_stds = ...\n",
    "\n",
    "# Знакомый polyfit, но три раза\n",
    "# y_lsq = ...\n",
    "# y_lsq_lower = ...\n",
    "# y_lsq_upper = ...\n",
    "\n",
    "fig = plt.figure(figsize=(12, 8))\n",
    "\n",
    "# YOUR CODE HERE\n",
    "# ...\n",
    "plt.show()"
   ]
  },
  {
   "cell_type": "markdown",
   "metadata": {
    "id": "FqLjEbi2M4rE"
   },
   "source": [
    "# 3. Работа с датасетом (3 балла)"
   ]
  },
  {
   "cell_type": "markdown",
   "metadata": {
    "id": "mrXNzj1vSxMi"
   },
   "source": [
    "Датасет ирисов использовался в статье Р.А. Фишера 1936 года «Использование множественных измерений в таксономических задачах», а в наши дни часто используется начинающими аналитиками данных.\n",
    "\n",
    "В наборе данных включены три вида ирисов по 50 образцов каждый, а также некоторые свойства каждого цветка. Один вид цветка линейно отделим от двух других, но два других не отделимы линейно друг от друга.\n",
    "\n",
    "Столбцы в этом датасете:\n",
    "\n",
    "Идентификатор (Id) \\\\\n",
    "Длина чашелистика, см (SepalLengthCm) \\\\\n",
    "Ширина чашелистика, см (SepalWidthCm) \\\\\n",
    "Длина лепестка, см (PetalLengthCm) \\\\\n",
    "Ширина лепестка, см (PetalWidthCm) \\\\\n",
    "Вид (Species) \\\\\n",
    "\n",
    "<font color='red'>ВНИМАНИЕ!</font> Все графики в этой части должны быть подписаны, а на осях должны быть подписи на русском языке."
   ]
  },
  {
   "cell_type": "code",
   "execution_count": null,
   "metadata": {
    "id": "NESWENOWa7og"
   },
   "outputs": [],
   "source": [
    "sns.set_style(\"darkgrid\")"
   ]
  },
  {
   "cell_type": "code",
   "execution_count": null,
   "metadata": {
    "colab": {
     "base_uri": "https://localhost:8080/",
     "height": 206
    },
    "id": "AlQQAZVbUGFw",
    "outputId": "9ca764f5-ff70-4a00-d619-ed0dc3885a89"
   },
   "outputs": [
    {
     "data": {
      "application/vnd.google.colaboratory.intrinsic+json": {
       "summary": "{\n  \"name\": \"iris\",\n  \"rows\": 150,\n  \"fields\": [\n    {\n      \"column\": \"Id\",\n      \"properties\": {\n        \"dtype\": \"number\",\n        \"std\": 43,\n        \"min\": 1,\n        \"max\": 150,\n        \"num_unique_values\": 150,\n        \"samples\": [\n          74,\n          19,\n          119\n        ],\n        \"semantic_type\": \"\",\n        \"description\": \"\"\n      }\n    },\n    {\n      \"column\": \"SepalLengthCm\",\n      \"properties\": {\n        \"dtype\": \"number\",\n        \"std\": 0.8280661279778629,\n        \"min\": 4.3,\n        \"max\": 7.9,\n        \"num_unique_values\": 35,\n        \"samples\": [\n          6.2,\n          4.5,\n          5.6\n        ],\n        \"semantic_type\": \"\",\n        \"description\": \"\"\n      }\n    },\n    {\n      \"column\": \"SepalWidthCm\",\n      \"properties\": {\n        \"dtype\": \"number\",\n        \"std\": 0.4335943113621737,\n        \"min\": 2.0,\n        \"max\": 4.4,\n        \"num_unique_values\": 23,\n        \"samples\": [\n          2.3,\n          4.0,\n          3.5\n        ],\n        \"semantic_type\": \"\",\n        \"description\": \"\"\n      }\n    },\n    {\n      \"column\": \"PetalLengthCm\",\n      \"properties\": {\n        \"dtype\": \"number\",\n        \"std\": 1.7644204199522617,\n        \"min\": 1.0,\n        \"max\": 6.9,\n        \"num_unique_values\": 43,\n        \"samples\": [\n          6.7,\n          3.8,\n          3.7\n        ],\n        \"semantic_type\": \"\",\n        \"description\": \"\"\n      }\n    },\n    {\n      \"column\": \"PetalWidthCm\",\n      \"properties\": {\n        \"dtype\": \"number\",\n        \"std\": 0.7631607417008414,\n        \"min\": 0.1,\n        \"max\": 2.5,\n        \"num_unique_values\": 22,\n        \"samples\": [\n          0.2,\n          1.2,\n          1.3\n        ],\n        \"semantic_type\": \"\",\n        \"description\": \"\"\n      }\n    },\n    {\n      \"column\": \"Species\",\n      \"properties\": {\n        \"dtype\": \"category\",\n        \"num_unique_values\": 3,\n        \"samples\": [\n          \"Iris-setosa\",\n          \"Iris-versicolor\",\n          \"Iris-virginica\"\n        ],\n        \"semantic_type\": \"\",\n        \"description\": \"\"\n      }\n    }\n  ]\n}",
       "type": "dataframe",
       "variable_name": "iris"
      },
      "text/html": [
       "\n",
       "  <div id=\"df-e822ff8e-9df1-4759-9b64-80a0c48ce208\" class=\"colab-df-container\">\n",
       "    <div>\n",
       "<style scoped>\n",
       "    .dataframe tbody tr th:only-of-type {\n",
       "        vertical-align: middle;\n",
       "    }\n",
       "\n",
       "    .dataframe tbody tr th {\n",
       "        vertical-align: top;\n",
       "    }\n",
       "\n",
       "    .dataframe thead th {\n",
       "        text-align: right;\n",
       "    }\n",
       "</style>\n",
       "<table border=\"1\" class=\"dataframe\">\n",
       "  <thead>\n",
       "    <tr style=\"text-align: right;\">\n",
       "      <th></th>\n",
       "      <th>Id</th>\n",
       "      <th>SepalLengthCm</th>\n",
       "      <th>SepalWidthCm</th>\n",
       "      <th>PetalLengthCm</th>\n",
       "      <th>PetalWidthCm</th>\n",
       "      <th>Species</th>\n",
       "    </tr>\n",
       "  </thead>\n",
       "  <tbody>\n",
       "    <tr>\n",
       "      <th>0</th>\n",
       "      <td>1</td>\n",
       "      <td>5.1</td>\n",
       "      <td>3.5</td>\n",
       "      <td>1.4</td>\n",
       "      <td>0.2</td>\n",
       "      <td>Iris-setosa</td>\n",
       "    </tr>\n",
       "    <tr>\n",
       "      <th>1</th>\n",
       "      <td>2</td>\n",
       "      <td>4.9</td>\n",
       "      <td>3.0</td>\n",
       "      <td>1.4</td>\n",
       "      <td>0.2</td>\n",
       "      <td>Iris-setosa</td>\n",
       "    </tr>\n",
       "    <tr>\n",
       "      <th>2</th>\n",
       "      <td>3</td>\n",
       "      <td>4.7</td>\n",
       "      <td>3.2</td>\n",
       "      <td>1.3</td>\n",
       "      <td>0.2</td>\n",
       "      <td>Iris-setosa</td>\n",
       "    </tr>\n",
       "    <tr>\n",
       "      <th>3</th>\n",
       "      <td>4</td>\n",
       "      <td>4.6</td>\n",
       "      <td>3.1</td>\n",
       "      <td>1.5</td>\n",
       "      <td>0.2</td>\n",
       "      <td>Iris-setosa</td>\n",
       "    </tr>\n",
       "    <tr>\n",
       "      <th>4</th>\n",
       "      <td>5</td>\n",
       "      <td>5.0</td>\n",
       "      <td>3.6</td>\n",
       "      <td>1.4</td>\n",
       "      <td>0.2</td>\n",
       "      <td>Iris-setosa</td>\n",
       "    </tr>\n",
       "  </tbody>\n",
       "</table>\n",
       "</div>\n",
       "    <div class=\"colab-df-buttons\">\n",
       "\n",
       "  <div class=\"colab-df-container\">\n",
       "    <button class=\"colab-df-convert\" onclick=\"convertToInteractive('df-e822ff8e-9df1-4759-9b64-80a0c48ce208')\"\n",
       "            title=\"Convert this dataframe to an interactive table.\"\n",
       "            style=\"display:none;\">\n",
       "\n",
       "  <svg xmlns=\"http://www.w3.org/2000/svg\" height=\"24px\" viewBox=\"0 -960 960 960\">\n",
       "    <path d=\"M120-120v-720h720v720H120Zm60-500h600v-160H180v160Zm220 220h160v-160H400v160Zm0 220h160v-160H400v160ZM180-400h160v-160H180v160Zm440 0h160v-160H620v160ZM180-180h160v-160H180v160Zm440 0h160v-160H620v160Z\"/>\n",
       "  </svg>\n",
       "    </button>\n",
       "\n",
       "  <style>\n",
       "    .colab-df-container {\n",
       "      display:flex;\n",
       "      gap: 12px;\n",
       "    }\n",
       "\n",
       "    .colab-df-convert {\n",
       "      background-color: #E8F0FE;\n",
       "      border: none;\n",
       "      border-radius: 50%;\n",
       "      cursor: pointer;\n",
       "      display: none;\n",
       "      fill: #1967D2;\n",
       "      height: 32px;\n",
       "      padding: 0 0 0 0;\n",
       "      width: 32px;\n",
       "    }\n",
       "\n",
       "    .colab-df-convert:hover {\n",
       "      background-color: #E2EBFA;\n",
       "      box-shadow: 0px 1px 2px rgba(60, 64, 67, 0.3), 0px 1px 3px 1px rgba(60, 64, 67, 0.15);\n",
       "      fill: #174EA6;\n",
       "    }\n",
       "\n",
       "    .colab-df-buttons div {\n",
       "      margin-bottom: 4px;\n",
       "    }\n",
       "\n",
       "    [theme=dark] .colab-df-convert {\n",
       "      background-color: #3B4455;\n",
       "      fill: #D2E3FC;\n",
       "    }\n",
       "\n",
       "    [theme=dark] .colab-df-convert:hover {\n",
       "      background-color: #434B5C;\n",
       "      box-shadow: 0px 1px 3px 1px rgba(0, 0, 0, 0.15);\n",
       "      filter: drop-shadow(0px 1px 2px rgba(0, 0, 0, 0.3));\n",
       "      fill: #FFFFFF;\n",
       "    }\n",
       "  </style>\n",
       "\n",
       "    <script>\n",
       "      const buttonEl =\n",
       "        document.querySelector('#df-e822ff8e-9df1-4759-9b64-80a0c48ce208 button.colab-df-convert');\n",
       "      buttonEl.style.display =\n",
       "        google.colab.kernel.accessAllowed ? 'block' : 'none';\n",
       "\n",
       "      async function convertToInteractive(key) {\n",
       "        const element = document.querySelector('#df-e822ff8e-9df1-4759-9b64-80a0c48ce208');\n",
       "        const dataTable =\n",
       "          await google.colab.kernel.invokeFunction('convertToInteractive',\n",
       "                                                    [key], {});\n",
       "        if (!dataTable) return;\n",
       "\n",
       "        const docLinkHtml = 'Like what you see? Visit the ' +\n",
       "          '<a target=\"_blank\" href=https://colab.research.google.com/notebooks/data_table.ipynb>data table notebook</a>'\n",
       "          + ' to learn more about interactive tables.';\n",
       "        element.innerHTML = '';\n",
       "        dataTable['output_type'] = 'display_data';\n",
       "        await google.colab.output.renderOutput(dataTable, element);\n",
       "        const docLink = document.createElement('div');\n",
       "        docLink.innerHTML = docLinkHtml;\n",
       "        element.appendChild(docLink);\n",
       "      }\n",
       "    </script>\n",
       "  </div>\n",
       "\n",
       "\n",
       "<div id=\"df-723cae06-ca78-458a-8e2f-396d0d030629\">\n",
       "  <button class=\"colab-df-quickchart\" onclick=\"quickchart('df-723cae06-ca78-458a-8e2f-396d0d030629')\"\n",
       "            title=\"Suggest charts\"\n",
       "            style=\"display:none;\">\n",
       "\n",
       "<svg xmlns=\"http://www.w3.org/2000/svg\" height=\"24px\"viewBox=\"0 0 24 24\"\n",
       "     width=\"24px\">\n",
       "    <g>\n",
       "        <path d=\"M19 3H5c-1.1 0-2 .9-2 2v14c0 1.1.9 2 2 2h14c1.1 0 2-.9 2-2V5c0-1.1-.9-2-2-2zM9 17H7v-7h2v7zm4 0h-2V7h2v10zm4 0h-2v-4h2v4z\"/>\n",
       "    </g>\n",
       "</svg>\n",
       "  </button>\n",
       "\n",
       "<style>\n",
       "  .colab-df-quickchart {\n",
       "      --bg-color: #E8F0FE;\n",
       "      --fill-color: #1967D2;\n",
       "      --hover-bg-color: #E2EBFA;\n",
       "      --hover-fill-color: #174EA6;\n",
       "      --disabled-fill-color: #AAA;\n",
       "      --disabled-bg-color: #DDD;\n",
       "  }\n",
       "\n",
       "  [theme=dark] .colab-df-quickchart {\n",
       "      --bg-color: #3B4455;\n",
       "      --fill-color: #D2E3FC;\n",
       "      --hover-bg-color: #434B5C;\n",
       "      --hover-fill-color: #FFFFFF;\n",
       "      --disabled-bg-color: #3B4455;\n",
       "      --disabled-fill-color: #666;\n",
       "  }\n",
       "\n",
       "  .colab-df-quickchart {\n",
       "    background-color: var(--bg-color);\n",
       "    border: none;\n",
       "    border-radius: 50%;\n",
       "    cursor: pointer;\n",
       "    display: none;\n",
       "    fill: var(--fill-color);\n",
       "    height: 32px;\n",
       "    padding: 0;\n",
       "    width: 32px;\n",
       "  }\n",
       "\n",
       "  .colab-df-quickchart:hover {\n",
       "    background-color: var(--hover-bg-color);\n",
       "    box-shadow: 0 1px 2px rgba(60, 64, 67, 0.3), 0 1px 3px 1px rgba(60, 64, 67, 0.15);\n",
       "    fill: var(--button-hover-fill-color);\n",
       "  }\n",
       "\n",
       "  .colab-df-quickchart-complete:disabled,\n",
       "  .colab-df-quickchart-complete:disabled:hover {\n",
       "    background-color: var(--disabled-bg-color);\n",
       "    fill: var(--disabled-fill-color);\n",
       "    box-shadow: none;\n",
       "  }\n",
       "\n",
       "  .colab-df-spinner {\n",
       "    border: 2px solid var(--fill-color);\n",
       "    border-color: transparent;\n",
       "    border-bottom-color: var(--fill-color);\n",
       "    animation:\n",
       "      spin 1s steps(1) infinite;\n",
       "  }\n",
       "\n",
       "  @keyframes spin {\n",
       "    0% {\n",
       "      border-color: transparent;\n",
       "      border-bottom-color: var(--fill-color);\n",
       "      border-left-color: var(--fill-color);\n",
       "    }\n",
       "    20% {\n",
       "      border-color: transparent;\n",
       "      border-left-color: var(--fill-color);\n",
       "      border-top-color: var(--fill-color);\n",
       "    }\n",
       "    30% {\n",
       "      border-color: transparent;\n",
       "      border-left-color: var(--fill-color);\n",
       "      border-top-color: var(--fill-color);\n",
       "      border-right-color: var(--fill-color);\n",
       "    }\n",
       "    40% {\n",
       "      border-color: transparent;\n",
       "      border-right-color: var(--fill-color);\n",
       "      border-top-color: var(--fill-color);\n",
       "    }\n",
       "    60% {\n",
       "      border-color: transparent;\n",
       "      border-right-color: var(--fill-color);\n",
       "    }\n",
       "    80% {\n",
       "      border-color: transparent;\n",
       "      border-right-color: var(--fill-color);\n",
       "      border-bottom-color: var(--fill-color);\n",
       "    }\n",
       "    90% {\n",
       "      border-color: transparent;\n",
       "      border-bottom-color: var(--fill-color);\n",
       "    }\n",
       "  }\n",
       "</style>\n",
       "\n",
       "  <script>\n",
       "    async function quickchart(key) {\n",
       "      const quickchartButtonEl =\n",
       "        document.querySelector('#' + key + ' button');\n",
       "      quickchartButtonEl.disabled = true;  // To prevent multiple clicks.\n",
       "      quickchartButtonEl.classList.add('colab-df-spinner');\n",
       "      try {\n",
       "        const charts = await google.colab.kernel.invokeFunction(\n",
       "            'suggestCharts', [key], {});\n",
       "      } catch (error) {\n",
       "        console.error('Error during call to suggestCharts:', error);\n",
       "      }\n",
       "      quickchartButtonEl.classList.remove('colab-df-spinner');\n",
       "      quickchartButtonEl.classList.add('colab-df-quickchart-complete');\n",
       "    }\n",
       "    (() => {\n",
       "      let quickchartButtonEl =\n",
       "        document.querySelector('#df-723cae06-ca78-458a-8e2f-396d0d030629 button');\n",
       "      quickchartButtonEl.style.display =\n",
       "        google.colab.kernel.accessAllowed ? 'block' : 'none';\n",
       "    })();\n",
       "  </script>\n",
       "</div>\n",
       "    </div>\n",
       "  </div>\n"
      ],
      "text/plain": [
       "   Id  SepalLengthCm  SepalWidthCm  PetalLengthCm  PetalWidthCm      Species\n",
       "0   1            5.1           3.5            1.4           0.2  Iris-setosa\n",
       "1   2            4.9           3.0            1.4           0.2  Iris-setosa\n",
       "2   3            4.7           3.2            1.3           0.2  Iris-setosa\n",
       "3   4            4.6           3.1            1.5           0.2  Iris-setosa\n",
       "4   5            5.0           3.6            1.4           0.2  Iris-setosa"
      ]
     },
     "execution_count": 6,
     "metadata": {},
     "output_type": "execute_result"
    }
   ],
   "source": [
    "# Считайте csv в DataFrame pandas при помощи pd.read_csv\n",
    "iris = # TODO\n",
    "iris.head()"
   ]
  },
  {
   "cell_type": "code",
   "execution_count": null,
   "metadata": {
    "colab": {
     "base_uri": "https://localhost:8080/",
     "height": 206
    },
    "id": "oDcVUiPbUfOa",
    "outputId": "d8d679c1-34f8-4c1f-b5e4-c5d05864f5cd"
   },
   "outputs": [
    {
     "data": {
      "application/vnd.google.colaboratory.intrinsic+json": {
       "summary": "{\n  \"name\": \"iris\",\n  \"rows\": 150,\n  \"fields\": [\n    {\n      \"column\": \"SepalLengthCm\",\n      \"properties\": {\n        \"dtype\": \"number\",\n        \"std\": 0.8280661279778629,\n        \"min\": 4.3,\n        \"max\": 7.9,\n        \"num_unique_values\": 35,\n        \"samples\": [\n          6.2,\n          4.5,\n          5.6\n        ],\n        \"semantic_type\": \"\",\n        \"description\": \"\"\n      }\n    },\n    {\n      \"column\": \"SepalWidthCm\",\n      \"properties\": {\n        \"dtype\": \"number\",\n        \"std\": 0.4335943113621737,\n        \"min\": 2.0,\n        \"max\": 4.4,\n        \"num_unique_values\": 23,\n        \"samples\": [\n          2.3,\n          4.0,\n          3.5\n        ],\n        \"semantic_type\": \"\",\n        \"description\": \"\"\n      }\n    },\n    {\n      \"column\": \"PetalLengthCm\",\n      \"properties\": {\n        \"dtype\": \"number\",\n        \"std\": 1.7644204199522617,\n        \"min\": 1.0,\n        \"max\": 6.9,\n        \"num_unique_values\": 43,\n        \"samples\": [\n          6.7,\n          3.8,\n          3.7\n        ],\n        \"semantic_type\": \"\",\n        \"description\": \"\"\n      }\n    },\n    {\n      \"column\": \"PetalWidthCm\",\n      \"properties\": {\n        \"dtype\": \"number\",\n        \"std\": 0.7631607417008414,\n        \"min\": 0.1,\n        \"max\": 2.5,\n        \"num_unique_values\": 22,\n        \"samples\": [\n          0.2,\n          1.2,\n          1.3\n        ],\n        \"semantic_type\": \"\",\n        \"description\": \"\"\n      }\n    },\n    {\n      \"column\": \"Species\",\n      \"properties\": {\n        \"dtype\": \"category\",\n        \"num_unique_values\": 3,\n        \"samples\": [\n          \"Iris-setosa\",\n          \"Iris-versicolor\",\n          \"Iris-virginica\"\n        ],\n        \"semantic_type\": \"\",\n        \"description\": \"\"\n      }\n    }\n  ]\n}",
       "type": "dataframe",
       "variable_name": "iris"
      },
      "text/html": [
       "\n",
       "  <div id=\"df-074bae3a-d6d8-40bb-be15-26f9bec74021\" class=\"colab-df-container\">\n",
       "    <div>\n",
       "<style scoped>\n",
       "    .dataframe tbody tr th:only-of-type {\n",
       "        vertical-align: middle;\n",
       "    }\n",
       "\n",
       "    .dataframe tbody tr th {\n",
       "        vertical-align: top;\n",
       "    }\n",
       "\n",
       "    .dataframe thead th {\n",
       "        text-align: right;\n",
       "    }\n",
       "</style>\n",
       "<table border=\"1\" class=\"dataframe\">\n",
       "  <thead>\n",
       "    <tr style=\"text-align: right;\">\n",
       "      <th></th>\n",
       "      <th>SepalLengthCm</th>\n",
       "      <th>SepalWidthCm</th>\n",
       "      <th>PetalLengthCm</th>\n",
       "      <th>PetalWidthCm</th>\n",
       "      <th>Species</th>\n",
       "    </tr>\n",
       "  </thead>\n",
       "  <tbody>\n",
       "    <tr>\n",
       "      <th>0</th>\n",
       "      <td>5.1</td>\n",
       "      <td>3.5</td>\n",
       "      <td>1.4</td>\n",
       "      <td>0.2</td>\n",
       "      <td>Iris-setosa</td>\n",
       "    </tr>\n",
       "    <tr>\n",
       "      <th>1</th>\n",
       "      <td>4.9</td>\n",
       "      <td>3.0</td>\n",
       "      <td>1.4</td>\n",
       "      <td>0.2</td>\n",
       "      <td>Iris-setosa</td>\n",
       "    </tr>\n",
       "    <tr>\n",
       "      <th>2</th>\n",
       "      <td>4.7</td>\n",
       "      <td>3.2</td>\n",
       "      <td>1.3</td>\n",
       "      <td>0.2</td>\n",
       "      <td>Iris-setosa</td>\n",
       "    </tr>\n",
       "    <tr>\n",
       "      <th>3</th>\n",
       "      <td>4.6</td>\n",
       "      <td>3.1</td>\n",
       "      <td>1.5</td>\n",
       "      <td>0.2</td>\n",
       "      <td>Iris-setosa</td>\n",
       "    </tr>\n",
       "    <tr>\n",
       "      <th>4</th>\n",
       "      <td>5.0</td>\n",
       "      <td>3.6</td>\n",
       "      <td>1.4</td>\n",
       "      <td>0.2</td>\n",
       "      <td>Iris-setosa</td>\n",
       "    </tr>\n",
       "  </tbody>\n",
       "</table>\n",
       "</div>\n",
       "    <div class=\"colab-df-buttons\">\n",
       "\n",
       "  <div class=\"colab-df-container\">\n",
       "    <button class=\"colab-df-convert\" onclick=\"convertToInteractive('df-074bae3a-d6d8-40bb-be15-26f9bec74021')\"\n",
       "            title=\"Convert this dataframe to an interactive table.\"\n",
       "            style=\"display:none;\">\n",
       "\n",
       "  <svg xmlns=\"http://www.w3.org/2000/svg\" height=\"24px\" viewBox=\"0 -960 960 960\">\n",
       "    <path d=\"M120-120v-720h720v720H120Zm60-500h600v-160H180v160Zm220 220h160v-160H400v160Zm0 220h160v-160H400v160ZM180-400h160v-160H180v160Zm440 0h160v-160H620v160ZM180-180h160v-160H180v160Zm440 0h160v-160H620v160Z\"/>\n",
       "  </svg>\n",
       "    </button>\n",
       "\n",
       "  <style>\n",
       "    .colab-df-container {\n",
       "      display:flex;\n",
       "      gap: 12px;\n",
       "    }\n",
       "\n",
       "    .colab-df-convert {\n",
       "      background-color: #E8F0FE;\n",
       "      border: none;\n",
       "      border-radius: 50%;\n",
       "      cursor: pointer;\n",
       "      display: none;\n",
       "      fill: #1967D2;\n",
       "      height: 32px;\n",
       "      padding: 0 0 0 0;\n",
       "      width: 32px;\n",
       "    }\n",
       "\n",
       "    .colab-df-convert:hover {\n",
       "      background-color: #E2EBFA;\n",
       "      box-shadow: 0px 1px 2px rgba(60, 64, 67, 0.3), 0px 1px 3px 1px rgba(60, 64, 67, 0.15);\n",
       "      fill: #174EA6;\n",
       "    }\n",
       "\n",
       "    .colab-df-buttons div {\n",
       "      margin-bottom: 4px;\n",
       "    }\n",
       "\n",
       "    [theme=dark] .colab-df-convert {\n",
       "      background-color: #3B4455;\n",
       "      fill: #D2E3FC;\n",
       "    }\n",
       "\n",
       "    [theme=dark] .colab-df-convert:hover {\n",
       "      background-color: #434B5C;\n",
       "      box-shadow: 0px 1px 3px 1px rgba(0, 0, 0, 0.15);\n",
       "      filter: drop-shadow(0px 1px 2px rgba(0, 0, 0, 0.3));\n",
       "      fill: #FFFFFF;\n",
       "    }\n",
       "  </style>\n",
       "\n",
       "    <script>\n",
       "      const buttonEl =\n",
       "        document.querySelector('#df-074bae3a-d6d8-40bb-be15-26f9bec74021 button.colab-df-convert');\n",
       "      buttonEl.style.display =\n",
       "        google.colab.kernel.accessAllowed ? 'block' : 'none';\n",
       "\n",
       "      async function convertToInteractive(key) {\n",
       "        const element = document.querySelector('#df-074bae3a-d6d8-40bb-be15-26f9bec74021');\n",
       "        const dataTable =\n",
       "          await google.colab.kernel.invokeFunction('convertToInteractive',\n",
       "                                                    [key], {});\n",
       "        if (!dataTable) return;\n",
       "\n",
       "        const docLinkHtml = 'Like what you see? Visit the ' +\n",
       "          '<a target=\"_blank\" href=https://colab.research.google.com/notebooks/data_table.ipynb>data table notebook</a>'\n",
       "          + ' to learn more about interactive tables.';\n",
       "        element.innerHTML = '';\n",
       "        dataTable['output_type'] = 'display_data';\n",
       "        await google.colab.output.renderOutput(dataTable, element);\n",
       "        const docLink = document.createElement('div');\n",
       "        docLink.innerHTML = docLinkHtml;\n",
       "        element.appendChild(docLink);\n",
       "      }\n",
       "    </script>\n",
       "  </div>\n",
       "\n",
       "\n",
       "<div id=\"df-1daf5824-e96e-4eb2-ae7a-120b6bb1a9f8\">\n",
       "  <button class=\"colab-df-quickchart\" onclick=\"quickchart('df-1daf5824-e96e-4eb2-ae7a-120b6bb1a9f8')\"\n",
       "            title=\"Suggest charts\"\n",
       "            style=\"display:none;\">\n",
       "\n",
       "<svg xmlns=\"http://www.w3.org/2000/svg\" height=\"24px\"viewBox=\"0 0 24 24\"\n",
       "     width=\"24px\">\n",
       "    <g>\n",
       "        <path d=\"M19 3H5c-1.1 0-2 .9-2 2v14c0 1.1.9 2 2 2h14c1.1 0 2-.9 2-2V5c0-1.1-.9-2-2-2zM9 17H7v-7h2v7zm4 0h-2V7h2v10zm4 0h-2v-4h2v4z\"/>\n",
       "    </g>\n",
       "</svg>\n",
       "  </button>\n",
       "\n",
       "<style>\n",
       "  .colab-df-quickchart {\n",
       "      --bg-color: #E8F0FE;\n",
       "      --fill-color: #1967D2;\n",
       "      --hover-bg-color: #E2EBFA;\n",
       "      --hover-fill-color: #174EA6;\n",
       "      --disabled-fill-color: #AAA;\n",
       "      --disabled-bg-color: #DDD;\n",
       "  }\n",
       "\n",
       "  [theme=dark] .colab-df-quickchart {\n",
       "      --bg-color: #3B4455;\n",
       "      --fill-color: #D2E3FC;\n",
       "      --hover-bg-color: #434B5C;\n",
       "      --hover-fill-color: #FFFFFF;\n",
       "      --disabled-bg-color: #3B4455;\n",
       "      --disabled-fill-color: #666;\n",
       "  }\n",
       "\n",
       "  .colab-df-quickchart {\n",
       "    background-color: var(--bg-color);\n",
       "    border: none;\n",
       "    border-radius: 50%;\n",
       "    cursor: pointer;\n",
       "    display: none;\n",
       "    fill: var(--fill-color);\n",
       "    height: 32px;\n",
       "    padding: 0;\n",
       "    width: 32px;\n",
       "  }\n",
       "\n",
       "  .colab-df-quickchart:hover {\n",
       "    background-color: var(--hover-bg-color);\n",
       "    box-shadow: 0 1px 2px rgba(60, 64, 67, 0.3), 0 1px 3px 1px rgba(60, 64, 67, 0.15);\n",
       "    fill: var(--button-hover-fill-color);\n",
       "  }\n",
       "\n",
       "  .colab-df-quickchart-complete:disabled,\n",
       "  .colab-df-quickchart-complete:disabled:hover {\n",
       "    background-color: var(--disabled-bg-color);\n",
       "    fill: var(--disabled-fill-color);\n",
       "    box-shadow: none;\n",
       "  }\n",
       "\n",
       "  .colab-df-spinner {\n",
       "    border: 2px solid var(--fill-color);\n",
       "    border-color: transparent;\n",
       "    border-bottom-color: var(--fill-color);\n",
       "    animation:\n",
       "      spin 1s steps(1) infinite;\n",
       "  }\n",
       "\n",
       "  @keyframes spin {\n",
       "    0% {\n",
       "      border-color: transparent;\n",
       "      border-bottom-color: var(--fill-color);\n",
       "      border-left-color: var(--fill-color);\n",
       "    }\n",
       "    20% {\n",
       "      border-color: transparent;\n",
       "      border-left-color: var(--fill-color);\n",
       "      border-top-color: var(--fill-color);\n",
       "    }\n",
       "    30% {\n",
       "      border-color: transparent;\n",
       "      border-left-color: var(--fill-color);\n",
       "      border-top-color: var(--fill-color);\n",
       "      border-right-color: var(--fill-color);\n",
       "    }\n",
       "    40% {\n",
       "      border-color: transparent;\n",
       "      border-right-color: var(--fill-color);\n",
       "      border-top-color: var(--fill-color);\n",
       "    }\n",
       "    60% {\n",
       "      border-color: transparent;\n",
       "      border-right-color: var(--fill-color);\n",
       "    }\n",
       "    80% {\n",
       "      border-color: transparent;\n",
       "      border-right-color: var(--fill-color);\n",
       "      border-bottom-color: var(--fill-color);\n",
       "    }\n",
       "    90% {\n",
       "      border-color: transparent;\n",
       "      border-bottom-color: var(--fill-color);\n",
       "    }\n",
       "  }\n",
       "</style>\n",
       "\n",
       "  <script>\n",
       "    async function quickchart(key) {\n",
       "      const quickchartButtonEl =\n",
       "        document.querySelector('#' + key + ' button');\n",
       "      quickchartButtonEl.disabled = true;  // To prevent multiple clicks.\n",
       "      quickchartButtonEl.classList.add('colab-df-spinner');\n",
       "      try {\n",
       "        const charts = await google.colab.kernel.invokeFunction(\n",
       "            'suggestCharts', [key], {});\n",
       "      } catch (error) {\n",
       "        console.error('Error during call to suggestCharts:', error);\n",
       "      }\n",
       "      quickchartButtonEl.classList.remove('colab-df-spinner');\n",
       "      quickchartButtonEl.classList.add('colab-df-quickchart-complete');\n",
       "    }\n",
       "    (() => {\n",
       "      let quickchartButtonEl =\n",
       "        document.querySelector('#df-1daf5824-e96e-4eb2-ae7a-120b6bb1a9f8 button');\n",
       "      quickchartButtonEl.style.display =\n",
       "        google.colab.kernel.accessAllowed ? 'block' : 'none';\n",
       "    })();\n",
       "  </script>\n",
       "</div>\n",
       "    </div>\n",
       "  </div>\n"
      ],
      "text/plain": [
       "   SepalLengthCm  SepalWidthCm  PetalLengthCm  PetalWidthCm      Species\n",
       "0            5.1           3.5            1.4           0.2  Iris-setosa\n",
       "1            4.9           3.0            1.4           0.2  Iris-setosa\n",
       "2            4.7           3.2            1.3           0.2  Iris-setosa\n",
       "3            4.6           3.1            1.5           0.2  Iris-setosa\n",
       "4            5.0           3.6            1.4           0.2  Iris-setosa"
      ]
     },
     "execution_count": 7,
     "metadata": {},
     "output_type": "execute_result"
    }
   ],
   "source": [
    "# Понятно, что колонка Id нам не очень нужна\n",
    "# Поэтому давайте её удалим - HINT: используйте метод drop\n",
    "\n",
    "# TODO\n",
    "iris.head()"
   ]
  },
  {
   "cell_type": "markdown",
   "metadata": {
    "id": "R2j3kkefV5DP"
   },
   "source": [
    "Давайте проверим, сколько у нас разных видов ирисов в итоге - должно быть 3 по 50 штук каждый. Воспользуйтесь `value_counts` , чтобы посмотреть, какие есть возможные значения у колонки species."
   ]
  },
  {
   "cell_type": "code",
   "execution_count": null,
   "metadata": {
    "id": "ciikB8rDYmvE"
   },
   "outputs": [],
   "source": [
    "# TODO"
   ]
  },
  {
   "cell_type": "markdown",
   "metadata": {
    "id": "WXYdKrdqYp6I"
   },
   "source": [
    "## 3.1 Графики длины и ширины лепестка ириса\n",
    "\n",
    "Давайте попробуем сравнить, связаны ли ширина и длина лепестков - воспользуйтесь `sns.scatterplot`, чтобы отобразить на оси OXY значения. Не забудьте подписать график и оси!"
   ]
  },
  {
   "cell_type": "code",
   "execution_count": null,
   "metadata": {
    "id": "yC3bz9HHadj2"
   },
   "outputs": [],
   "source": [
    "# TODO"
   ]
  },
  {
   "cell_type": "markdown",
   "metadata": {
    "id": "xnNewWCcbRqu"
   },
   "source": [
    "Напишите, какие выводы можно сделать из графика. Чего графику не хватает, чтобы он был информативным?\n",
    "\n",
    "<font color='red'>ВАШ ОТВЕТ ЗДЕСЬ</font>"
   ]
  },
  {
   "cell_type": "markdown",
   "metadata": {
    "id": "9KNx2DY7b92b"
   },
   "source": [
    "Давайте попробуем другие графики для тех же целей из библиотеки seaborn - `sns.jointplot`; кроме того, попробуйте выделить цветом точки на графике в зависимости от вида ириса - воспользуйтесь `sns.facetgrid`. В следующих ячейках выведите эти два графика и проанализируйте."
   ]
  },
  {
   "cell_type": "code",
   "execution_count": null,
   "metadata": {
    "id": "n448lJCObP6J"
   },
   "outputs": [],
   "source": [
    "#TODO"
   ]
  },
  {
   "cell_type": "code",
   "execution_count": null,
   "metadata": {
    "id": "GFRnPtx1cV2D"
   },
   "outputs": [],
   "source": []
  },
  {
   "cell_type": "markdown",
   "metadata": {
    "id": "9AoAkXk5cV9h"
   },
   "source": [
    "Какие выводы можно сделать из этих графиков? Какой из 3 методов - scatterplot, jointplot, facetgrid вам кажется лучше?\n",
    "\n",
    "<font color='red'> ВАШ ОТВЕТ ЗДЕСЬ </font>"
   ]
  },
  {
   "cell_type": "markdown",
   "metadata": {
    "id": "VLhlRICGc75D"
   },
   "source": [
    "## 3.2 Графики распределений значений длины лепестка"
   ]
  },
  {
   "cell_type": "markdown",
   "metadata": {
    "id": "6ZFYjsYUdBuI"
   },
   "source": [
    "Постройте график \"ящика с усами\" - `sns.boxplot` и его аналог - `sns.violinplot`. По оси Ox должны находиться возможные виды ирисов, по оси Oy."
   ]
  },
  {
   "cell_type": "code",
   "execution_count": null,
   "metadata": {
    "id": "r3ZO1ll9dr9N"
   },
   "outputs": [],
   "source": [
    "# TODO"
   ]
  },
  {
   "cell_type": "code",
   "execution_count": null,
   "metadata": {
    "id": "2hlonw5odtbL"
   },
   "outputs": [],
   "source": []
  },
  {
   "cell_type": "markdown",
   "metadata": {
    "id": "etGxbdVedtmW"
   },
   "source": [
    "Сравните два вида графиков. Какой более информативный, а какой - более красивый визуально по вашему мнению? Какую информацию мы можем получить из этих графиков?\n",
    "\n",
    "<font color='red'> ВАШ ОТВЕТ ЗДЕСЬ </font>"
   ]
  },
  {
   "cell_type": "markdown",
   "metadata": {
    "id": "l3Ds9W78eXQ7"
   },
   "source": [
    "## 3.3 Попарные графики взаимосвязи признаков\n",
    "\n",
    "\n",
    "Давайте попробуем построить большую табличку из графиковв размера 4 на 4, где у нас находятся все возможные пары признаков (длина/ширина лепестка, длина/ширина чашелистика). Для этого воспользуйтесь `sns.pairplot` и не забудьте указать параметр `hue`."
   ]
  },
  {
   "cell_type": "code",
   "execution_count": null,
   "metadata": {
    "id": "Inl3JIWKe9VU"
   },
   "outputs": [],
   "source": [
    "# TODO"
   ]
  },
  {
   "cell_type": "markdown",
   "metadata": {
    "id": "TI5q8XmWfFlG"
   },
   "source": [
    "Какую информацию о взаимосвязи признаков вы можете почерпнуть из полученного графика?\n",
    "\n",
    "<font color='red'> ВАШ ОТВЕТ ЗДЕСЬ </font>"
   ]
  },
  {
   "cell_type": "markdown",
   "metadata": {
    "id": "Qjx7hlPqfMUs"
   },
   "source": [
    "Какие графики находятся на диагонали этой таблицы?\n",
    "\n",
    "<font color='red'> ВАШ ОТВЕТ ЗДЕСЬ </font>"
   ]
  },
  {
   "cell_type": "markdown",
   "metadata": {
    "id": "1lLyldeDfR0l"
   },
   "source": [
    "Попробуй заменить графики на диагонали таблицы на другие, возможно, более информативные (подсказка: в документации у `sns.pairplot` для этого есть специальный параметр). Выведи полученный график."
   ]
  },
  {
   "cell_type": "code",
   "execution_count": null,
   "metadata": {
    "id": "nzziJ41Wfgfo"
   },
   "outputs": [],
   "source": [
    "# TODO"
   ]
  },
  {
   "cell_type": "markdown",
   "metadata": {
    "id": "_lOw8ntYfhLX"
   },
   "source": [
    "Какие графики теперь находятся на диагонали таблицы? Получилось ли более информативно?\n",
    "\n",
    "<font color='red'> ВАШ ОТВЕТ ЗДЕСЬ </font>"
   ]
  },
  {
   "cell_type": "markdown",
   "metadata": {
    "id": "QYw4Ipx8frhJ"
   },
   "source": []
  }
 ],
 "metadata": {
  "colab": {
   "provenance": [],
   "toc_visible": true
  },
  "kernelspec": {
   "display_name": "Python 3",
   "name": "python3"
  },
  "language_info": {
   "codemirror_mode": {
    "name": "ipython",
    "version": 3
   },
   "file_extension": ".py",
   "mimetype": "text/x-python",
   "name": "python",
   "nbconvert_exporter": "python",
   "pygments_lexer": "ipython3",
   "version": "3.9.6"
  }
 },
 "nbformat": 4,
 "nbformat_minor": 0
}
